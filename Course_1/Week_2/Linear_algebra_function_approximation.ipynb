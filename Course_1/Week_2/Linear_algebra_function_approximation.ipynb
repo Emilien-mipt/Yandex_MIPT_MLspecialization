{
 "cells": [
  {
   "cell_type": "markdown",
   "metadata": {},
   "source": [
    "# Линейная алгебра: сходство текстов и аппроксимация функций"
   ]
  },
  {
   "cell_type": "markdown",
   "metadata": {},
   "source": [
    "## Задача 1: сравнение предложений"
   ]
  },
  {
   "cell_type": "code",
   "execution_count": 1,
   "metadata": {},
   "outputs": [],
   "source": [
    "import numpy as np\n",
    "from scipy.spatial import distance\n",
    "from math import sin, exp\n",
    "import re"
   ]
  },
  {
   "cell_type": "code",
   "execution_count": 138,
   "metadata": {},
   "outputs": [
    {
     "name": "stdout",
     "output_type": "stream",
     "text": [
      "['in', 'comparison', 'to', 'dogs', 'cats', 'have', 'not', 'undergone', 'major', 'changes', 'during', 'the', 'domestication', 'process']\n",
      "['as', 'cat', 'simply', 'catenates', 'streams', 'of', 'bytes', 'it', 'can', 'be', 'also', 'used', 'to', 'concatenate', 'binary', 'files', 'where', 'it', 'will', 'just', 'concatenate', 'sequence', 'of', 'bytes']\n",
      "['a', 'common', 'interactive', 'use', 'of', 'cat', 'for', 'a', 'single', 'file', 'is', 'to', 'output', 'the', 'content', 'of', 'a', 'file', 'to', 'standard', 'output']\n",
      "['cats', 'can', 'hear', 'sounds', 'too', 'faint', 'or', 'too', 'high', 'in', 'frequency', 'for', 'human', 'ears', 'such', 'as', 'those', 'made', 'by', 'mice', 'and', 'other', 'small', 'animals']\n",
      "['in', 'one', 'people', 'deliberately', 'tamed', 'cats', 'in', 'a', 'process', 'of', 'artificial', 'selection', 'as', 'they', 'were', 'useful', 'predators', 'of', 'vermin']\n",
      "['the', 'domesticated', 'cat', 'and', 'its', 'closest', 'wild', 'ancestor', 'are', 'both', 'diploid', 'organisms', 'that', 'possess', 'chromosomes', 'and', 'roughly', 'genes']\n",
      "['domestic', 'cats', 'are', 'similar', 'in', 'size', 'to', 'the', 'other', 'members', 'of', 'the', 'genus', 'felis', 'typically', 'weighing', 'between', 'and', 'kg', 'and', 'lb']\n",
      "['however', 'if', 'the', 'output', 'is', 'piped', 'or', 'redirected', 'cat', 'is', 'unnecessary']\n",
      "['cat', 'with', 'one', 'named', 'file', 'is', 'safer', 'where', 'human', 'error', 'is', 'a', 'concern', 'one', 'wrong', 'use', 'of', 'the', 'default', 'redirection', 'symbol', 'instead', 'of', 'often', 'adjacent', 'on', 'keyboards', 'may', 'permanently', 'delete', 'the', 'file', 'you', 'were', 'just', 'needing', 'to', 'read']\n",
      "['in', 'terms', 'of', 'legibility', 'a', 'sequence', 'of', 'commands', 'starting', 'with', 'cat', 'and', 'connected', 'by', 'pipes', 'has', 'a', 'clear', 'left', 'to', 'right', 'flow', 'of', 'information']\n",
      "['cat', 'command', 'is', 'one', 'of', 'the', 'basic', 'commands', 'that', 'you', 'learned', 'when', 'you', 'started', 'in', 'the', 'unix', 'linux', 'world']\n",
      "['using', 'cat', 'command', 'the', 'lines', 'received', 'from', 'stdin', 'can', 'be', 'redirected', 'to', 'a', 'new', 'file', 'using', 'redirection', 'symbols']\n",
      "['when', 'you', 'type', 'simply', 'cat', 'command', 'without', 'any', 'arguments', 'it', 'just', 'receives', 'the', 'stdin', 'content', 'and', 'displays', 'it', 'in', 'the', 'stdout']\n",
      "['leopard', 'was', 'released', 'on', 'october', 'as', 'the', 'successor', 'of', 'tiger', 'version', 'and', 'is', 'available', 'in', 'two', 'editions']\n",
      "['according', 'to', 'apple', 'leopard', 'contains', 'over', 'changes', 'and', 'enhancements', 'over', 'its', 'predecessor', 'mac', 'os', 'x', 'tiger']\n",
      "['as', 'of', 'mid', 'some', 'apple', 'computers', 'have', 'firmware', 'factory', 'installed', 'which', 'will', 'no', 'longer', 'allow', 'installation', 'of', 'mac', 'os', 'x', 'leopard']\n",
      "['since', 'apple', 'moved', 'to', 'using', 'intel', 'processors', 'in', 'their', 'computers', 'the', 'osx', 'community', 'has', 'developed', 'and', 'now', 'also', 'allows', 'mac', 'os', 'x', 'tiger', 'and', 'later', 'releases', 'to', 'be', 'installed', 'on', 'non', 'apple', 'x', 'based', 'computers']\n",
      "['os', 'x', 'mountain', 'lion', 'was', 'released', 'on', 'july', 'for', 'purchase', 'and', 'download', 'through', 'apple', 's', 'mac', 'app', 'store', 'as', 'part', 'of', 'a', 'switch', 'to', 'releasing', 'os', 'x', 'versions', 'online', 'and', 'every', 'year']\n",
      "['apple', 'has', 'released', 'a', 'small', 'patch', 'for', 'the', 'three', 'most', 'recent', 'versions', 'of', 'safari', 'running', 'on', 'os', 'x', 'yosemite', 'mavericks', 'and', 'mountain', 'lion']\n",
      "['the', 'mountain', 'lion', 'release', 'marks', 'the', 'second', 'time', 'apple', 'has', 'offered', 'an', 'incremental', 'upgrade', 'rather', 'than', 'releasing', 'a', 'new', 'cat', 'entirely']\n",
      "['mac', 'os', 'x', 'mountain', 'lion', 'installs', 'in', 'place', 'so', 'you', 'won', 't', 'need', 'to', 'create', 'a', 'separate', 'disk', 'or', 'run', 'the', 'installation', 'off', 'an', 'external', 'drive']\n",
      "['the', 'fifth', 'major', 'update', 'to', 'mac', 'os', 'x', 'leopard', 'contains', 'such', 'a', 'mountain', 'of', 'features', 'more', 'than', 'by', 'apple', 's', 'count']\n",
      "[0.9527544408738466, 0.8644738145642124, 0.8951715163278082, 0.7770887149698589, 0.9402385695332803, 0.7327387580875756, 0.9258750683338899, 0.8842724875284311, 0.9055088817476932, 0.8328165362273942, 0.8804771390665607, 0.8396432548525454, 0.8703592552895671, 0.8740118423302576, 0.9442721787424647, 0.8406361854220809, 0.956644501523794, 0.9442721787424647, 0.8885443574849294, 0.8427572744917122, 0.8250364469440588]\n",
      "6 4\n"
     ]
    }
   ],
   "source": [
    "d = {}\n",
    "m = np.ones((22, 254))\n",
    "\n",
    "#Сначала создадим словарь, ключами которого будут все слова, встречающиеся в тексте\n",
    "with open('sentences.txt') as inf:\n",
    "    for line in inf:\n",
    "        line = line.strip().lower()\n",
    "        t = re.split('[^a-z]', line)\n",
    "        print(list(filter(None, t)))\n",
    "        for x in list(filter(None, t)):\n",
    "            d[x] = [0]*22\n",
    "            \n",
    "#Теперь заполним словарь\n",
    "count = 0 #Номер предложения\n",
    "with open('sentences.txt') as inf:\n",
    "    for line in inf:\n",
    "        line = line.strip().lower()\n",
    "        t = re.split('[^a-z]', line)\n",
    "        for x in list(filter(None, t)):\n",
    "            d[x][count] = list(filter(None, t)).count(x)\n",
    "        count+=1\n",
    "\n",
    "#Заполняем массив\n",
    "for i in range(0,22):\n",
    "    for j in range(0, 254):\n",
    "        m[i,j] = d[list(d.keys())[j]][i]\n",
    "\n",
    "#Массив с косинусными расстояниями\n",
    "cos_dist = []\n",
    "cos_dist_copy = []\n",
    "for i in range(1,22):\n",
    "    cos_dist.append(distance.cosine(m[0, :], m[i,:]))\n",
    "    cos_dist_copy.append(distance.cosine(m[0, :], m[i,:]))\n",
    "#Два минимальных расстояния\n",
    "print(cos_dist)\n",
    "\n",
    "res_1 = cos_dist.index(min(cos_dist))+1\n",
    "cos_dist.remove(min(cos_dist))\n",
    "res_2 = cos_dist_copy.index(min(cos_dist))+1\n",
    "\n",
    "print(res_1, res_2)\n",
    "\n",
    "#Запись в файл\n",
    "with open('submission-1.txt', 'w') as ouf:\n",
    "    ouf.write(str(res_1)+\" \")\n",
    "    ouf.write(str(res_2))\n",
    "    \n",
    "\n",
    "\n",
    "\n"
   ]
  },
  {
   "cell_type": "markdown",
   "metadata": {},
   "source": [
    "## Задача 2: аппроксимация функции"
   ]
  },
  {
   "cell_type": "code",
   "execution_count": 2,
   "metadata": {},
   "outputs": [],
   "source": [
    "from pylab import *"
   ]
  },
  {
   "cell_type": "code",
   "execution_count": 3,
   "metadata": {},
   "outputs": [],
   "source": [
    "def f(x):   \n",
    "    return sin(x / 5.) * exp(x / 10.) + 5 * exp(-x / 2.)"
   ]
  },
  {
   "cell_type": "code",
   "execution_count": 9,
   "metadata": {},
   "outputs": [
    {
     "name": "stdout",
     "output_type": "stream",
     "text": [
      "[3.25221687 3.23947913 3.22682049 ... 0.65169236 0.64346668 0.63522142]\n"
     ]
    },
    {
     "data": {
      "image/png": "[encoded data removed]",
      "text/plain": [
       "<Figure size 432x288 with 1 Axes>"
      ]
     },
     "metadata": {},
     "output_type": "display_data"
    }
   ],
   "source": [
    "x = np.arange(1, 15.01, 0.01)\n",
    "figure()\n",
    "plot(x, f(x), 'r')\n",
    "xlabel('x')\n",
    "ylabel('y')\n",
    "show()"
   ]
  },
  {
   "cell_type": "code",
   "execution_count": 5,
   "metadata": {},
   "outputs": [
    {
     "name": "stdout",
     "output_type": "stream",
     "text": [
      "[[ 1  1]\n",
      " [ 1 15]]\n",
      "[[3.25221687]\n",
      " [0.63522142]]\n",
      "[[ 3.43914511]\n",
      " [-0.18692825]]\n"
     ]
    },
    {
     "data": {
      "image/png": "[encoded data removed]",
      "text/plain": [
       "<Figure size 432x288 with 1 Axes>"
      ]
     },
     "metadata": {},
     "output_type": "display_data"
    }
   ],
   "source": [
    "#Первая степень многочлена\n",
    "x_1 = 1\n",
    "x_2 = 15\n",
    "F = np.array([f(x_1), f(x_2)]).reshape(2,1)\n",
    "X = np.array([[1, x_1], [1, x_2]])\n",
    "print(X)\n",
    "print(F)\n",
    "W = np.linalg.solve(X, F)\n",
    "print(W)\n",
    "\n",
    "def predict_model(x):\n",
    "    return W[0]+W[1]*x\n",
    "\n",
    "#Рисуем\n",
    "x = np.arange(1, 15.01, 0.01)\n",
    "figure()\n",
    "plot(x, f(x), 'r')\n",
    "plot(x, predict_model(x), 'b')\n",
    "xlabel('x')\n",
    "ylabel('y')\n",
    "show()\n"
   ]
  },
  {
   "cell_type": "code",
   "execution_count": 6,
   "metadata": {},
   "outputs": [
    {
     "name": "stdout",
     "output_type": "stream",
     "text": [
      "[[ 3.32512949]\n",
      " [-0.06531159]\n",
      " [-0.00760104]]\n"
     ]
    },
    {
     "data": {
      "image/png": "[encoded data removed]",
      "text/plain": [
       "<Figure size 432x288 with 1 Axes>"
      ]
     },
     "metadata": {},
     "output_type": "display_data"
    }
   ],
   "source": [
    "#Вторая степень многочлена\n",
    "x_1 = 1\n",
    "x_2 = 8\n",
    "x_3 = 15\n",
    "\n",
    "F = np.array([f(x_1), f(x_2), f(x_3)])\n",
    "X = np.array([[1, x_1, x_1**2], [1, x_2, x_2**2], [1, x_3, x_3**2]])\n",
    "W = np.linalg.solve(X, F[:, np.newaxis])\n",
    "print(W)\n",
    "\n",
    "def predict_model(x):\n",
    "    return W[0]+W[1]*x+W[2]*(x**2)\n",
    "\n",
    "x = np.arange(1, 15.01, 0.01)\n",
    "figure()\n",
    "plot(x, f(x), 'r')\n",
    "plot(x, predict_model(x), 'b')\n",
    "xlabel('x')\n",
    "ylabel('y')\n",
    "show()\n",
    "\n"
   ]
  },
  {
   "cell_type": "code",
   "execution_count": 7,
   "metadata": {},
   "outputs": [
    {
     "name": "stdout",
     "output_type": "stream",
     "text": [
      "[[ 4.36264154]\n",
      " [-1.29552587]\n",
      " [ 0.19333685]\n",
      " [-0.00823565]]\n"
     ]
    },
    {
     "data": {
      "image/png": "[encoded data removed]",
      "text/plain": [
       "<Figure size 432x288 with 1 Axes>"
      ]
     },
     "metadata": {},
     "output_type": "display_data"
    }
   ],
   "source": [
    "#Третья степень многочлена\n",
    "x_1 = 1\n",
    "x_2 = 4\n",
    "x_3 = 10\n",
    "x_4 = 15\n",
    "\n",
    "F = np.array([f(x_1), f(x_2), f(x_3), f(x_4)])\n",
    "X = np.array([[1, x_1, x_1**2, x_1**3], [1, x_2, x_2**2, x_2**3], [1, x_3, x_3**2, x_3**3], [1, x_4, x_4**2, x_4**3]])\n",
    "W = np.linalg.solve(X, F[:, np.newaxis])\n",
    "print(W)\n",
    "\n",
    "def predict_model(x):\n",
    "    return W[0]+W[1]*x+W[2]*(x**2)+W[3]*(x**3)\n",
    "\n",
    "x = np.arange(1, 15.01, 0.01)\n",
    "figure()\n",
    "plot(x, f(x), 'r')\n",
    "plot(x, predict_model(x), 'b')\n",
    "xlabel('x')\n",
    "ylabel('y')\n",
    "show()\n",
    "\n"
   ]
  },
  {
   "cell_type": "code",
   "execution_count": 8,
   "metadata": {},
   "outputs": [
    {
     "name": "stdout",
     "output_type": "stream",
     "text": [
      "(4, 1)\n"
     ]
    }
   ],
   "source": [
    "#Запись в файл\n",
    "print(W.shape)\n",
    "with open('submission-2.txt', 'w') as ouf:\n",
    "    ouf.write(str(W[0][0])+\" \")\n",
    "    ouf.write(str(W[1][0])+\" \")\n",
    "    ouf.write(str(W[2][0])+\" \")\n",
    "    ouf.write(str(W[3][0]))"
   ]
  },
  {
   "cell_type": "code",
   "execution_count": null,
   "metadata": {},
   "outputs": [],
   "source": []
  }
 ],
 "metadata": {
  "kernelspec": {
   "display_name": "Python 3",
   "language": "python",
   "name": "python3"
  },
  "language_info": {
   "codemirror_mode": {
    "name": "ipython",
    "version": 3
   },
   "file_extension": ".py",
   "mimetype": "text/x-python",
   "name": "python",
   "nbconvert_exporter": "python",
   "pygments_lexer": "ipython3",
   "version": "3.6.5"
  }
 },
 "nbformat": 4,
 "nbformat_minor": 2
}
