{
 "cells": [
  {
   "cell_type": "markdown",
   "metadata": {},
   "source": [
    "# Линейная алгебра: сходство текстов и аппроксимация функций"
   ]
  },
  {
   "cell_type": "markdown",
   "metadata": {},
   "source": [
    "## Задача 1: сравнение предложений"
   ]
  },
  {
   "cell_type": "code",
   "execution_count": 105,
   "metadata": {},
   "outputs": [],
   "source": [
    "import numpy as np\n",
    "from scipy.spatial import distance\n",
    "import re"
   ]
  },
  {
   "cell_type": "code",
   "execution_count": 119,
   "metadata": {},
   "outputs": [
    {
     "name": "stdout",
     "output_type": "stream",
     "text": [
      "[0.9527544408738466, 0.8644738145642124, 0.8951715163278082, 0.7770887149698589, 0.9402385695332803, 0.9258750683338899, 0.8842724875284311, 0.9055088817476932, 0.8328165362273942, 0.8804771390665607, 0.8396432548525454, 0.8703592552895671, 0.8740118423302576, 0.9442721787424647, 0.8406361854220809, 0.956644501523794, 0.9442721787424647, 0.8885443574849294, 0.8427572744917122, 0.8250364469440588]\n",
      "0.7327387580875756 0.7770887149698589\n"
     ]
    }
   ],
   "source": [
    "d = {}\n",
    "m = np.ones((22, 254))\n",
    "\n",
    "#Сначала создадим словарь, ключами которого будут все слова, встречающиеся в тексте\n",
    "with open('sentences.txt') as inf:\n",
    "    for line in inf:\n",
    "        line = line.strip().lower()\n",
    "        t = re.split('[^a-z]', line)\n",
    "        for x in list(filter(None, t)):\n",
    "            d[x] = [0]*22\n",
    "            \n",
    "#Теперь заполним словарь\n",
    "count = 0 #Номер предложения\n",
    "with open('sentences.txt') as inf:\n",
    "    for line in inf:\n",
    "        line = line.strip().lower()\n",
    "        t = re.split('[^a-z]', line)\n",
    "        for x in list(filter(None, t)):\n",
    "            d[x][count] = list(filter(None, t)).count(x)\n",
    "        count+=1\n",
    "\n",
    "#Заполняем массив\n",
    "for i in range(0,22):\n",
    "    for j in range(0, 254):\n",
    "        m[i,j] = d[list(d.keys())[j]][i]\n",
    "\n",
    "#Массив с косинусными расстояниями\n",
    "cos_dist = []\n",
    "for i in range(1,22):\n",
    "    cos_dist.append(distance.cosine(m[0, :], m[i,:]))\n",
    "\n",
    "#Два минимальных расстояния\n",
    "res_1 = min(cos_dist)\n",
    "cos_dist.remove(res_1)\n",
    "res_2 = min(cos_dist)\n",
    "\n",
    "\n",
    "#Запись в файл\n",
    "with open('submission-1.txt', 'w') as ouf:\n",
    "    ouf.write(str(res_1)+\" \")\n",
    "    ouf.write(str(res_2))\n",
    "    \n",
    "print(cos_dist)\n",
    "print(res_1, res_2)\n",
    "\n"
   ]
  },
  {
   "cell_type": "code",
   "execution_count": null,
   "metadata": {},
   "outputs": [],
   "source": []
  }
 ],
 "metadata": {
  "kernelspec": {
   "display_name": "Python 3",
   "language": "python",
   "name": "python3"
  },
  "language_info": {
   "codemirror_mode": {
    "name": "ipython",
    "version": 3
   },
   "file_extension": ".py",
   "mimetype": "text/x-python",
   "name": "python",
   "nbconvert_exporter": "python",
   "pygments_lexer": "ipython3",
   "version": "3.6.5"
  }
 },
 "nbformat": 4,
 "nbformat_minor": 2
}
